{
 "cells": [
  {
   "cell_type": "code",
   "execution_count": 1,
   "id": "844b606f-3c6f-49f1-adb9-618476b8af3a",
   "metadata": {},
   "outputs": [],
   "source": [
    "import pandas as pd\n",
    "import glob as gb\n",
    "import numpy as np\n",
    "from pandas_profiling import ProfileReport"
   ]
  },
  {
   "cell_type": "code",
   "execution_count": 2,
   "id": "8b21ba57-264b-408f-90b5-545bad149679",
   "metadata": {},
   "outputs": [
    {
     "data": {
      "text/plain": [
       "['/home/rodriguesms/Dados/SINAN/Dados/HANS/HANSBR14.txt',\n",
       " '/home/rodriguesms/Dados/SINAN/Dados/HANS/HANSBR19.txt',\n",
       " '/home/rodriguesms/Dados/SINAN/Dados/HANS/HANSBR21.txt',\n",
       " '/home/rodriguesms/Dados/SINAN/Dados/HANS/HANSBR22.txt',\n",
       " '/home/rodriguesms/Dados/SINAN/Dados/HANS/HANSBR12.txt',\n",
       " '/home/rodriguesms/Dados/SINAN/Dados/HANS/HANSBR20.txt',\n",
       " '/home/rodriguesms/Dados/SINAN/Dados/HANS/HANSBR13.txt',\n",
       " '/home/rodriguesms/Dados/SINAN/Dados/HANS/HANSBR18.txt',\n",
       " '/home/rodriguesms/Dados/SINAN/Dados/HANS/HANSBR10.txt',\n",
       " '/home/rodriguesms/Dados/SINAN/Dados/HANS/HANSBR16.txt',\n",
       " '/home/rodriguesms/Dados/SINAN/Dados/HANS/HANSBR15.txt',\n",
       " '/home/rodriguesms/Dados/SINAN/Dados/HANS/HANSBR17.txt',\n",
       " '/home/rodriguesms/Dados/SINAN/Dados/HANS/HANSBR11.txt']"
      ]
     },
     "execution_count": 2,
     "metadata": {},
     "output_type": "execute_result"
    }
   ],
   "source": [
    "files = gb.glob(\"/home/rodriguesms/Dados/SINAN/Dados/HANS/*.txt\")\n",
    "files"
   ]
  },
  {
   "cell_type": "code",
   "execution_count": 3,
   "id": "56792dd0-ca61-4f06-97d4-dbf168fedb25",
   "metadata": {},
   "outputs": [],
   "source": [
    "dataFrames = [pd.read_csv(f, sep = \" \", encoding = \"iso-8859-1\", low_memory = False) for f in files]"
   ]
  },
  {
   "cell_type": "code",
   "execution_count": 4,
   "id": "ceb1dbfb-a636-454f-9279-1c67ac8e306c",
   "metadata": {},
   "outputs": [
    {
     "data": {
      "text/html": [
       "<div>\n",
       "<style scoped>\n",
       "    .dataframe tbody tr th:only-of-type {\n",
       "        vertical-align: middle;\n",
       "    }\n",
       "\n",
       "    .dataframe tbody tr th {\n",
       "        vertical-align: top;\n",
       "    }\n",
       "\n",
       "    .dataframe thead th {\n",
       "        text-align: right;\n",
       "    }\n",
       "</style>\n",
       "<table border=\"1\" class=\"dataframe\">\n",
       "  <thead>\n",
       "    <tr style=\"text-align: right;\">\n",
       "      <th></th>\n",
       "      <th>TP_NOT</th>\n",
       "      <th>ID_AGRAVO</th>\n",
       "      <th>DT_NOTIFIC</th>\n",
       "      <th>NU_ANO</th>\n",
       "      <th>SG_UF_NOT</th>\n",
       "      <th>ID_MUNICIP</th>\n",
       "      <th>ID_REGIONA</th>\n",
       "      <th>ID_UNIDADE</th>\n",
       "      <th>DT_DIAG</th>\n",
       "      <th>SEM_DIAG</th>\n",
       "      <th>...</th>\n",
       "      <th>CLASSATUAL</th>\n",
       "      <th>AVAL_ATU_N</th>\n",
       "      <th>ESQ_ATU_N</th>\n",
       "      <th>DOSE_RECEB</th>\n",
       "      <th>EPIS_RACIO</th>\n",
       "      <th>DTMUDESQ</th>\n",
       "      <th>CONTEXAM</th>\n",
       "      <th>DTALTA_N</th>\n",
       "      <th>TPALTA_N</th>\n",
       "      <th>IN_VINCULA</th>\n",
       "    </tr>\n",
       "  </thead>\n",
       "  <tbody>\n",
       "    <tr>\n",
       "      <th>0</th>\n",
       "      <td>2</td>\n",
       "      <td>A309</td>\n",
       "      <td>2014-01-01</td>\n",
       "      <td>2014</td>\n",
       "      <td>29.0</td>\n",
       "      <td>291560</td>\n",
       "      <td>1388.0</td>\n",
       "      <td>5504120.0</td>\n",
       "      <td>2013-12-10</td>\n",
       "      <td>NaN</td>\n",
       "      <td>...</td>\n",
       "      <td>1.0</td>\n",
       "      <td>0.0</td>\n",
       "      <td>1.0</td>\n",
       "      <td>6.0</td>\n",
       "      <td>4.0</td>\n",
       "      <td>NaN</td>\n",
       "      <td>1.0</td>\n",
       "      <td>2014-09-08</td>\n",
       "      <td>1.0</td>\n",
       "      <td>NaN</td>\n",
       "    </tr>\n",
       "    <tr>\n",
       "      <th>1</th>\n",
       "      <td>2</td>\n",
       "      <td>A309</td>\n",
       "      <td>2014-01-01</td>\n",
       "      <td>2014</td>\n",
       "      <td>29.0</td>\n",
       "      <td>291560</td>\n",
       "      <td>1388.0</td>\n",
       "      <td>5504120.0</td>\n",
       "      <td>2014-01-01</td>\n",
       "      <td>NaN</td>\n",
       "      <td>...</td>\n",
       "      <td>1.0</td>\n",
       "      <td>NaN</td>\n",
       "      <td>1.0</td>\n",
       "      <td>6.0</td>\n",
       "      <td>4.0</td>\n",
       "      <td>NaN</td>\n",
       "      <td>NaN</td>\n",
       "      <td>NaN</td>\n",
       "      <td>NaN</td>\n",
       "      <td>NaN</td>\n",
       "    </tr>\n",
       "    <tr>\n",
       "      <th>2</th>\n",
       "      <td>2</td>\n",
       "      <td>A309</td>\n",
       "      <td>2014-01-01</td>\n",
       "      <td>2014</td>\n",
       "      <td>50.0</td>\n",
       "      <td>500270</td>\n",
       "      <td>1975.0</td>\n",
       "      <td>10154.0</td>\n",
       "      <td>2014-01-01</td>\n",
       "      <td>NaN</td>\n",
       "      <td>...</td>\n",
       "      <td>2.0</td>\n",
       "      <td>0.0</td>\n",
       "      <td>2.0</td>\n",
       "      <td>23.0</td>\n",
       "      <td>4.0</td>\n",
       "      <td>NaN</td>\n",
       "      <td>1.0</td>\n",
       "      <td>2016-10-05</td>\n",
       "      <td>1.0</td>\n",
       "      <td>NaN</td>\n",
       "    </tr>\n",
       "    <tr>\n",
       "      <th>3</th>\n",
       "      <td>2</td>\n",
       "      <td>A309</td>\n",
       "      <td>2014-01-01</td>\n",
       "      <td>2014</td>\n",
       "      <td>21.0</td>\n",
       "      <td>211230</td>\n",
       "      <td>1443.0</td>\n",
       "      <td>2450712.0</td>\n",
       "      <td>2014-01-01</td>\n",
       "      <td>NaN</td>\n",
       "      <td>...</td>\n",
       "      <td>2.0</td>\n",
       "      <td>NaN</td>\n",
       "      <td>2.0</td>\n",
       "      <td>12.0</td>\n",
       "      <td>4.0</td>\n",
       "      <td>NaN</td>\n",
       "      <td>3.0</td>\n",
       "      <td>2016-02-05</td>\n",
       "      <td>1.0</td>\n",
       "      <td>NaN</td>\n",
       "    </tr>\n",
       "    <tr>\n",
       "      <th>4</th>\n",
       "      <td>2</td>\n",
       "      <td>A309</td>\n",
       "      <td>2014-01-02</td>\n",
       "      <td>2014</td>\n",
       "      <td>29.0</td>\n",
       "      <td>291735</td>\n",
       "      <td>1403.0</td>\n",
       "      <td>6352960.0</td>\n",
       "      <td>2013-12-27</td>\n",
       "      <td>NaN</td>\n",
       "      <td>...</td>\n",
       "      <td>2.0</td>\n",
       "      <td>0.0</td>\n",
       "      <td>2.0</td>\n",
       "      <td>12.0</td>\n",
       "      <td>4.0</td>\n",
       "      <td>NaN</td>\n",
       "      <td>8.0</td>\n",
       "      <td>2015-02-20</td>\n",
       "      <td>1.0</td>\n",
       "      <td>NaN</td>\n",
       "    </tr>\n",
       "  </tbody>\n",
       "</table>\n",
       "<p>5 rows × 54 columns</p>\n",
       "</div>"
      ],
      "text/plain": [
       "   TP_NOT ID_AGRAVO  DT_NOTIFIC  NU_ANO  SG_UF_NOT  ID_MUNICIP  ID_REGIONA  \\\n",
       "0       2      A309  2014-01-01    2014       29.0      291560      1388.0   \n",
       "1       2      A309  2014-01-01    2014       29.0      291560      1388.0   \n",
       "2       2      A309  2014-01-01    2014       50.0      500270      1975.0   \n",
       "3       2      A309  2014-01-01    2014       21.0      211230      1443.0   \n",
       "4       2      A309  2014-01-02    2014       29.0      291735      1403.0   \n",
       "\n",
       "   ID_UNIDADE     DT_DIAG  SEM_DIAG  ... CLASSATUAL  AVAL_ATU_N ESQ_ATU_N  \\\n",
       "0   5504120.0  2013-12-10       NaN  ...        1.0         0.0       1.0   \n",
       "1   5504120.0  2014-01-01       NaN  ...        1.0         NaN       1.0   \n",
       "2     10154.0  2014-01-01       NaN  ...        2.0         0.0       2.0   \n",
       "3   2450712.0  2014-01-01       NaN  ...        2.0         NaN       2.0   \n",
       "4   6352960.0  2013-12-27       NaN  ...        2.0         0.0       2.0   \n",
       "\n",
       "   DOSE_RECEB  EPIS_RACIO DTMUDESQ  CONTEXAM    DTALTA_N  TPALTA_N  IN_VINCULA  \n",
       "0         6.0         4.0      NaN       1.0  2014-09-08       1.0         NaN  \n",
       "1         6.0         4.0      NaN       NaN         NaN       NaN         NaN  \n",
       "2        23.0         4.0      NaN       1.0  2016-10-05       1.0         NaN  \n",
       "3        12.0         4.0      NaN       3.0  2016-02-05       1.0         NaN  \n",
       "4        12.0         4.0      NaN       8.0  2015-02-20       1.0         NaN  \n",
       "\n",
       "[5 rows x 54 columns]"
      ]
     },
     "execution_count": 4,
     "metadata": {},
     "output_type": "execute_result"
    }
   ],
   "source": [
    "df = pd.concat(dataFrames, ignore_index = True)\n",
    "df.head()"
   ]
  },
  {
   "cell_type": "code",
   "execution_count": 5,
   "id": "1fad1664-44b6-4a8a-8c71-7f71b18851ec",
   "metadata": {},
   "outputs": [],
   "source": [
    "#lower case columns\n",
    "df.columns = df.columns.str.lower()"
   ]
  },
  {
   "cell_type": "code",
   "execution_count": 6,
   "id": "22bc9d19-fd8c-4c4b-a482-840f200101c1",
   "metadata": {},
   "outputs": [],
   "source": [
    "#select only new cases (1 new case)\n",
    "df.query(\"modoentr == 1\", inplace = True)"
   ]
  },
  {
   "cell_type": "code",
   "execution_count": 7,
   "id": "e9b5df90-7d56-4108-92db-deaff0b8a11b",
   "metadata": {},
   "outputs": [],
   "source": [
    "#select only cases that occurs til december 2022\n",
    "df.query(\"nu_ano >= 2011\", inplace = True)"
   ]
  },
  {
   "cell_type": "code",
   "execution_count": 8,
   "id": "fd68fc6a-d306-48cc-971d-8ac2cf155d32",
   "metadata": {},
   "outputs": [],
   "source": [
    "dic = {\n",
    "     \"cs_raca\": {1: \"White\", 2: \"Non white\", 3: \"Non white\", 4: \"Non white\", 5:\"Non white\"},\n",
    "     \"cs_sexo\": {\"F\": \"Female\", \"M\": \"Male\"},\n",
    "     \"cs_escol_n\": {1: \"< 5 years\", 2:\"[5,9)\", 3:\"[5,9)\", 4:\"[9,12)\", 5:\"[9,12)\", 6:\"[9,12)\", 7:\">=12\", 8:\">=12\"},\n",
    "     \"tpalta_n\": {1: \"Non death\", 2: \"Non death\", 3:\"Non death\", 4:\"Non death\", 5: \"Non death\", 6: \"Death\", 7: \"Non death\", 8: \"Non death\", 9: \"Non death\"},\n",
    "     \"cs_zona\": {1: \"Urban\", 2: \"Rural\", 3: \"Peri-urban\"},\n",
    "     \"baciloscop\": {1:\"Positive\", 2: \"Negative\"},\n",
    "     \"avalia_n\": {0: \"Zero Degree\", 1: \"First Degree\", 2: \"Second Degree\"},\n",
    "     \"aval_atu_n\":{0: \"Zero Degree\", 1: \"First Degree\", 2: \"Second Degree\"},\n",
    "     \"classatual\":{1: \"PB\", 2: \"MB\"},\n",
    "     \"formaclini\": {2: \"Tuberculoid\", 3: \"Bordline\", 4: \"Virchowiana\"},\n",
    "     \"classopera\": {1: \"PB\", 2:\"MB\"},\n",
    "     \"modoentr\": {1: \"New Case\", 2:\"Transfer\", 3: \"Transfer\", 4:\"Transfer\", 5:\"Transfer\", 6:\"Recidiva\"},\n",
    "     \"bacilosco\": {1: \"Positive\", 2: \"Negative\", 3:\"Not performed\"},\n",
    "     \"esq_ini_n\": {1: \"PQT/PB/6 doses\", 2: \"PQT/MB/12 doses\", 3: \"Others\"},\n",
    "     \"esq_atu_n\": {1: \"PQT/PB/6 doses\", 2: \"PQT/MB/12 doses\", 3: \"Others\"},\n",
    "     \"tpalta_n\": {1: \"Cure\", 2: \"transfer\", 3:\"transfer\", 4:\"transfer\", 5:\"transfer\", 6:\"Death\", 7:\"Leaft treatment\", 8: \"Miss Diagnosis\", 9: \"transfer\"},\n",
    "     \"epis_racio\": {1:\"Type 1\", 2:\"Type 2\", 3: \"Booth\"}\n",
    "}\n",
    "\n",
    "\n",
    "for col in df.columns:\n",
    "    if col in dic.keys():\n",
    "        df[col] = df[col].map(dic[col])"
   ]
  },
  {
   "cell_type": "code",
   "execution_count": 9,
   "id": "90374b14-126b-4cae-8cf7-e752dc948ab0",
   "metadata": {},
   "outputs": [],
   "source": [
    "#Convert age to numeric\n",
    "def convertAge(x):\n",
    "    \"\"\"\n",
    "    input: a integer with 4 digits\n",
    "    return: age in years\n",
    "    \"\"\"\n",
    "    x = str(x)\n",
    "    x = x.split(\".\")[0]\n",
    "    try:\n",
    "        if x[0] == \"4\":\n",
    "            return int(x[1:])\n",
    "        elif x[0] == \"3\":\n",
    "            return int(x[1:])/12\n",
    "        elif x[0] == \"2\":\n",
    "            return int(x[1:])/365.5\n",
    "        else:\n",
    "            return np.nan\n",
    "    except:\n",
    "        return np.nan\n",
    "df[\"age\"] = df[\"nu_idade_n\"].apply(lambda x: convertAge(x))"
   ]
  },
  {
   "cell_type": "code",
   "execution_count": 10,
   "id": "9c2c5fe2-1349-4a01-83aa-f9135862227e",
   "metadata": {},
   "outputs": [
    {
     "name": "stderr",
     "output_type": "stream",
     "text": [
      "/usr/local/lib/python3.10/dist-packages/multimethod/__init__.py:315: SettingWithCopyWarning: \n",
      "A value is trying to be set on a copy of a slice from a DataFrame\n",
      "\n",
      "See the caveats in the documentation: https://pandas.pydata.org/pandas-docs/stable/user_guide/indexing.html#returning-a-view-versus-a-copy\n",
      "  return func(*args, **kwargs)\n"
     ]
    },
    {
     "data": {
      "application/vnd.jupyter.widget-view+json": {
       "model_id": "14dff494d92648279b015c16d3a73b32",
       "version_major": 2,
       "version_minor": 0
      },
      "text/plain": [
       "Summarize dataset:   0%|          | 0/5 [00:00<?, ?it/s]"
      ]
     },
     "metadata": {},
     "output_type": "display_data"
    },
    {
     "data": {
      "application/vnd.jupyter.widget-view+json": {
       "model_id": "37128595c8e14c0a985e752cd9f0fda2",
       "version_major": 2,
       "version_minor": 0
      },
      "text/plain": [
       "Generate report structure:   0%|          | 0/1 [00:00<?, ?it/s]"
      ]
     },
     "metadata": {},
     "output_type": "display_data"
    },
    {
     "data": {
      "application/vnd.jupyter.widget-view+json": {
       "model_id": "e89a409e617f46e29c09d6d29d125a19",
       "version_major": 2,
       "version_minor": 0
      },
      "text/plain": [
       "Render HTML:   0%|          | 0/1 [00:00<?, ?it/s]"
      ]
     },
     "metadata": {},
     "output_type": "display_data"
    },
    {
     "data": {
      "application/vnd.jupyter.widget-view+json": {
       "model_id": "977c11d971d54dc2aee813bbd7115124",
       "version_major": 2,
       "version_minor": 0
      },
      "text/plain": [
       "Export report to file:   0%|          | 0/1 [00:00<?, ?it/s]"
      ]
     },
     "metadata": {},
     "output_type": "display_data"
    },
    {
     "name": "stderr",
     "output_type": "stream",
     "text": [
      "/usr/local/lib/python3.10/dist-packages/multimethod/__init__.py:315: SettingWithCopyWarning: \n",
      "A value is trying to be set on a copy of a slice from a DataFrame\n",
      "\n",
      "See the caveats in the documentation: https://pandas.pydata.org/pandas-docs/stable/user_guide/indexing.html#returning-a-view-versus-a-copy\n",
      "  return func(*args, **kwargs)\n"
     ]
    },
    {
     "data": {
      "application/vnd.jupyter.widget-view+json": {
       "model_id": "735d4cd382d74caa83e57f78429d4e8e",
       "version_major": 2,
       "version_minor": 0
      },
      "text/plain": [
       "Summarize dataset:   0%|          | 0/5 [00:00<?, ?it/s]"
      ]
     },
     "metadata": {},
     "output_type": "display_data"
    },
    {
     "data": {
      "application/vnd.jupyter.widget-view+json": {
       "model_id": "a5ce0c56787f4e0da34b3b20a5559989",
       "version_major": 2,
       "version_minor": 0
      },
      "text/plain": [
       "Generate report structure:   0%|          | 0/1 [00:00<?, ?it/s]"
      ]
     },
     "metadata": {},
     "output_type": "display_data"
    },
    {
     "data": {
      "application/vnd.jupyter.widget-view+json": {
       "model_id": "7232578b404e4ffaa3cbc09818ea4e91",
       "version_major": 2,
       "version_minor": 0
      },
      "text/plain": [
       "Render HTML:   0%|          | 0/1 [00:00<?, ?it/s]"
      ]
     },
     "metadata": {},
     "output_type": "display_data"
    },
    {
     "data": {
      "application/vnd.jupyter.widget-view+json": {
       "model_id": "d8e7e2c8e72f446b962432f9a640efd7",
       "version_major": 2,
       "version_minor": 0
      },
      "text/plain": [
       "Export report to file:   0%|          | 0/1 [00:00<?, ?it/s]"
      ]
     },
     "metadata": {},
     "output_type": "display_data"
    },
    {
     "data": {
      "application/vnd.jupyter.widget-view+json": {
       "model_id": "9f3d75231194411a8c79ab197f512e73",
       "version_major": 2,
       "version_minor": 0
      },
      "text/plain": [
       "Summarize dataset:   0%|          | 0/5 [00:00<?, ?it/s]"
      ]
     },
     "metadata": {},
     "output_type": "display_data"
    },
    {
     "data": {
      "application/vnd.jupyter.widget-view+json": {
       "model_id": "29de529b463340f5822e2f151a4c94ae",
       "version_major": 2,
       "version_minor": 0
      },
      "text/plain": [
       "Generate report structure:   0%|          | 0/1 [00:00<?, ?it/s]"
      ]
     },
     "metadata": {},
     "output_type": "display_data"
    },
    {
     "data": {
      "application/vnd.jupyter.widget-view+json": {
       "model_id": "2880e29673fe423a8ff7811ef3f8168e",
       "version_major": 2,
       "version_minor": 0
      },
      "text/plain": [
       "Render HTML:   0%|          | 0/1 [00:00<?, ?it/s]"
      ]
     },
     "metadata": {},
     "output_type": "display_data"
    },
    {
     "data": {
      "application/vnd.jupyter.widget-view+json": {
       "model_id": "b3be63ce2a0b49a5b2227afd449cea67",
       "version_major": 2,
       "version_minor": 0
      },
      "text/plain": [
       "Export report to file:   0%|          | 0/1 [00:00<?, ?it/s]"
      ]
     },
     "metadata": {},
     "output_type": "display_data"
    }
   ],
   "source": [
    "names = [\"PB\", \"MB\", \"overall\"]\n",
    "for name in names:\n",
    "    if name == \"overall\":\n",
    "        profile = ProfileReport(df, minimal = True)\n",
    "        profile.to_file(\"../results/\" + name + \"_Descriptive.html\")\n",
    "    else:\n",
    "         profile = ProfileReport(df[df[\"classopera\"] == name], minimal = True)\n",
    "         profile.to_file(\"../results/\" + name + \"_Descriptive.html\")"
   ]
  },
  {
   "cell_type": "code",
   "execution_count": 11,
   "id": "de231ef7-817d-4c23-a7f6-61fc6e2cd1c9",
   "metadata": {},
   "outputs": [
    {
     "data": {
      "text/html": [
       "<div>\n",
       "<style scoped>\n",
       "    .dataframe tbody tr th:only-of-type {\n",
       "        vertical-align: middle;\n",
       "    }\n",
       "\n",
       "    .dataframe tbody tr th {\n",
       "        vertical-align: top;\n",
       "    }\n",
       "\n",
       "    .dataframe thead th {\n",
       "        text-align: right;\n",
       "    }\n",
       "</style>\n",
       "<table border=\"1\" class=\"dataframe\">\n",
       "  <thead>\n",
       "    <tr style=\"text-align: right;\">\n",
       "      <th></th>\n",
       "      <th>tp_not</th>\n",
       "      <th>id_agravo</th>\n",
       "      <th>dt_notific</th>\n",
       "      <th>nu_ano</th>\n",
       "      <th>sg_uf_not</th>\n",
       "      <th>id_municip</th>\n",
       "      <th>id_regiona</th>\n",
       "      <th>id_unidade</th>\n",
       "      <th>dt_diag</th>\n",
       "      <th>sem_diag</th>\n",
       "      <th>...</th>\n",
       "      <th>aval_atu_n</th>\n",
       "      <th>esq_atu_n</th>\n",
       "      <th>dose_receb</th>\n",
       "      <th>epis_racio</th>\n",
       "      <th>dtmudesq</th>\n",
       "      <th>contexam</th>\n",
       "      <th>dtalta_n</th>\n",
       "      <th>tpalta_n</th>\n",
       "      <th>in_vincula</th>\n",
       "      <th>age</th>\n",
       "    </tr>\n",
       "  </thead>\n",
       "  <tbody>\n",
       "    <tr>\n",
       "      <th>0</th>\n",
       "      <td>2</td>\n",
       "      <td>A309</td>\n",
       "      <td>2014-01-01</td>\n",
       "      <td>2014</td>\n",
       "      <td>29.0</td>\n",
       "      <td>291560</td>\n",
       "      <td>1388.0</td>\n",
       "      <td>5504120.0</td>\n",
       "      <td>2013-12-10</td>\n",
       "      <td>NaN</td>\n",
       "      <td>...</td>\n",
       "      <td>Zero Degree</td>\n",
       "      <td>PQT/PB/6 doses</td>\n",
       "      <td>6.0</td>\n",
       "      <td>NaN</td>\n",
       "      <td>NaN</td>\n",
       "      <td>1.0</td>\n",
       "      <td>2014-09-08</td>\n",
       "      <td>Cure</td>\n",
       "      <td>NaN</td>\n",
       "      <td>25.0</td>\n",
       "    </tr>\n",
       "    <tr>\n",
       "      <th>1</th>\n",
       "      <td>2</td>\n",
       "      <td>A309</td>\n",
       "      <td>2014-01-01</td>\n",
       "      <td>2014</td>\n",
       "      <td>29.0</td>\n",
       "      <td>291560</td>\n",
       "      <td>1388.0</td>\n",
       "      <td>5504120.0</td>\n",
       "      <td>2014-01-01</td>\n",
       "      <td>NaN</td>\n",
       "      <td>...</td>\n",
       "      <td>NaN</td>\n",
       "      <td>PQT/PB/6 doses</td>\n",
       "      <td>6.0</td>\n",
       "      <td>NaN</td>\n",
       "      <td>NaN</td>\n",
       "      <td>NaN</td>\n",
       "      <td>NaN</td>\n",
       "      <td>NaN</td>\n",
       "      <td>NaN</td>\n",
       "      <td>78.0</td>\n",
       "    </tr>\n",
       "    <tr>\n",
       "      <th>2</th>\n",
       "      <td>2</td>\n",
       "      <td>A309</td>\n",
       "      <td>2014-01-01</td>\n",
       "      <td>2014</td>\n",
       "      <td>50.0</td>\n",
       "      <td>500270</td>\n",
       "      <td>1975.0</td>\n",
       "      <td>10154.0</td>\n",
       "      <td>2014-01-01</td>\n",
       "      <td>NaN</td>\n",
       "      <td>...</td>\n",
       "      <td>Zero Degree</td>\n",
       "      <td>PQT/MB/12 doses</td>\n",
       "      <td>23.0</td>\n",
       "      <td>NaN</td>\n",
       "      <td>NaN</td>\n",
       "      <td>1.0</td>\n",
       "      <td>2016-10-05</td>\n",
       "      <td>Cure</td>\n",
       "      <td>NaN</td>\n",
       "      <td>53.0</td>\n",
       "    </tr>\n",
       "    <tr>\n",
       "      <th>3</th>\n",
       "      <td>2</td>\n",
       "      <td>A309</td>\n",
       "      <td>2014-01-01</td>\n",
       "      <td>2014</td>\n",
       "      <td>21.0</td>\n",
       "      <td>211230</td>\n",
       "      <td>1443.0</td>\n",
       "      <td>2450712.0</td>\n",
       "      <td>2014-01-01</td>\n",
       "      <td>NaN</td>\n",
       "      <td>...</td>\n",
       "      <td>NaN</td>\n",
       "      <td>PQT/MB/12 doses</td>\n",
       "      <td>12.0</td>\n",
       "      <td>NaN</td>\n",
       "      <td>NaN</td>\n",
       "      <td>3.0</td>\n",
       "      <td>2016-02-05</td>\n",
       "      <td>Cure</td>\n",
       "      <td>NaN</td>\n",
       "      <td>38.0</td>\n",
       "    </tr>\n",
       "    <tr>\n",
       "      <th>4</th>\n",
       "      <td>2</td>\n",
       "      <td>A309</td>\n",
       "      <td>2014-01-02</td>\n",
       "      <td>2014</td>\n",
       "      <td>29.0</td>\n",
       "      <td>291735</td>\n",
       "      <td>1403.0</td>\n",
       "      <td>6352960.0</td>\n",
       "      <td>2013-12-27</td>\n",
       "      <td>NaN</td>\n",
       "      <td>...</td>\n",
       "      <td>Zero Degree</td>\n",
       "      <td>PQT/MB/12 doses</td>\n",
       "      <td>12.0</td>\n",
       "      <td>NaN</td>\n",
       "      <td>NaN</td>\n",
       "      <td>8.0</td>\n",
       "      <td>2015-02-20</td>\n",
       "      <td>Cure</td>\n",
       "      <td>NaN</td>\n",
       "      <td>52.0</td>\n",
       "    </tr>\n",
       "  </tbody>\n",
       "</table>\n",
       "<p>5 rows × 55 columns</p>\n",
       "</div>"
      ],
      "text/plain": [
       "   tp_not id_agravo  dt_notific  nu_ano  sg_uf_not  id_municip  id_regiona  \\\n",
       "0       2      A309  2014-01-01    2014       29.0      291560      1388.0   \n",
       "1       2      A309  2014-01-01    2014       29.0      291560      1388.0   \n",
       "2       2      A309  2014-01-01    2014       50.0      500270      1975.0   \n",
       "3       2      A309  2014-01-01    2014       21.0      211230      1443.0   \n",
       "4       2      A309  2014-01-02    2014       29.0      291735      1403.0   \n",
       "\n",
       "   id_unidade     dt_diag  sem_diag  ...   aval_atu_n        esq_atu_n  \\\n",
       "0   5504120.0  2013-12-10       NaN  ...  Zero Degree   PQT/PB/6 doses   \n",
       "1   5504120.0  2014-01-01       NaN  ...          NaN   PQT/PB/6 doses   \n",
       "2     10154.0  2014-01-01       NaN  ...  Zero Degree  PQT/MB/12 doses   \n",
       "3   2450712.0  2014-01-01       NaN  ...          NaN  PQT/MB/12 doses   \n",
       "4   6352960.0  2013-12-27       NaN  ...  Zero Degree  PQT/MB/12 doses   \n",
       "\n",
       "  dose_receb  epis_racio dtmudesq contexam    dtalta_n  tpalta_n  in_vincula  \\\n",
       "0        6.0         NaN      NaN      1.0  2014-09-08      Cure         NaN   \n",
       "1        6.0         NaN      NaN      NaN         NaN       NaN         NaN   \n",
       "2       23.0         NaN      NaN      1.0  2016-10-05      Cure         NaN   \n",
       "3       12.0         NaN      NaN      3.0  2016-02-05      Cure         NaN   \n",
       "4       12.0         NaN      NaN      8.0  2015-02-20      Cure         NaN   \n",
       "\n",
       "    age  \n",
       "0  25.0  \n",
       "1  78.0  \n",
       "2  53.0  \n",
       "3  38.0  \n",
       "4  52.0  \n",
       "\n",
       "[5 rows x 55 columns]"
      ]
     },
     "execution_count": 11,
     "metadata": {},
     "output_type": "execute_result"
    }
   ],
   "source": [
    "df.head()"
   ]
  },
  {
   "cell_type": "code",
   "execution_count": 12,
   "id": "33e51719-542f-4ab8-af19-67d72406ffd2",
   "metadata": {},
   "outputs": [],
   "source": [
    "def count_death(x):\n",
    "    if x == \"Non death\":\n",
    "        return 0\n",
    "    elif x == \"Death\":\n",
    "        return 1\n",
    "df[\"death\"] = df[\"tpalta_n\"].apply(lambda x: count_death(x))"
   ]
  },
  {
   "cell_type": "code",
   "execution_count": 13,
   "id": "c1ce8e6a-cfaa-4fec-9b24-e51d722bcdf7",
   "metadata": {},
   "outputs": [
    {
     "data": {
      "text/html": [
       "<div>\n",
       "<style scoped>\n",
       "    .dataframe tbody tr th:only-of-type {\n",
       "        vertical-align: middle;\n",
       "    }\n",
       "\n",
       "    .dataframe tbody tr th {\n",
       "        vertical-align: top;\n",
       "    }\n",
       "\n",
       "    .dataframe thead th {\n",
       "        text-align: right;\n",
       "    }\n",
       "</style>\n",
       "<table border=\"1\" class=\"dataframe\">\n",
       "  <thead>\n",
       "    <tr style=\"text-align: right;\">\n",
       "      <th></th>\n",
       "      <th>year</th>\n",
       "      <th>id_mn_resi</th>\n",
       "      <th>cases</th>\n",
       "    </tr>\n",
       "  </thead>\n",
       "  <tbody>\n",
       "    <tr>\n",
       "      <th>0</th>\n",
       "      <td>2011</td>\n",
       "      <td>110001.0</td>\n",
       "      <td>21</td>\n",
       "    </tr>\n",
       "    <tr>\n",
       "      <th>1</th>\n",
       "      <td>2011</td>\n",
       "      <td>110002.0</td>\n",
       "      <td>47</td>\n",
       "    </tr>\n",
       "    <tr>\n",
       "      <th>2</th>\n",
       "      <td>2011</td>\n",
       "      <td>110004.0</td>\n",
       "      <td>67</td>\n",
       "    </tr>\n",
       "    <tr>\n",
       "      <th>3</th>\n",
       "      <td>2011</td>\n",
       "      <td>110005.0</td>\n",
       "      <td>16</td>\n",
       "    </tr>\n",
       "    <tr>\n",
       "      <th>4</th>\n",
       "      <td>2011</td>\n",
       "      <td>110006.0</td>\n",
       "      <td>4</td>\n",
       "    </tr>\n",
       "  </tbody>\n",
       "</table>\n",
       "</div>"
      ],
      "text/plain": [
       "   year  id_mn_resi  cases\n",
       "0  2011    110001.0     21\n",
       "1  2011    110002.0     47\n",
       "2  2011    110004.0     67\n",
       "3  2011    110005.0     16\n",
       "4  2011    110006.0      4"
      ]
     },
     "execution_count": 13,
     "metadata": {},
     "output_type": "execute_result"
    }
   ],
   "source": [
    "df[\"cases\"] = 1\n",
    "df[\"year\"] = pd.DatetimeIndex(df[\"dt_notific\"]).year\n",
    "#df[\"month\"] = pd.DatetimeIndex(df[\"dt_notific\"]).month\n",
    "#df[\"day\"] = 1\n",
    "data_to_model = df[[\"id_mn_resi\",\"cases\", \"year\"]].groupby([\"year\", \"id_mn_resi\"])[\"cases\"].sum().reset_index()\n",
    "data_to_model.head()"
   ]
  },
  {
   "cell_type": "code",
   "execution_count": 14,
   "id": "47735c6d-0123-4b54-8668-27296b4fb5e7",
   "metadata": {},
   "outputs": [],
   "source": [
    "data_to_model.to_csv(\"../data/2023_02_10_Data_to_analyze.csv\", index = False)"
   ]
  }
 ],
 "metadata": {
  "kernelspec": {
   "display_name": "Python 3 (ipykernel)",
   "language": "python",
   "name": "python3"
  },
  "language_info": {
   "codemirror_mode": {
    "name": "ipython",
    "version": 3
   },
   "file_extension": ".py",
   "mimetype": "text/x-python",
   "name": "python",
   "nbconvert_exporter": "python",
   "pygments_lexer": "ipython3",
   "version": "3.10.6"
  }
 },
 "nbformat": 4,
 "nbformat_minor": 5
}
